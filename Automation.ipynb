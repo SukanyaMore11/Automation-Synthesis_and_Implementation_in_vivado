{
  "cells": [
    {
      "cell_type": "code",
      "execution_count": null,
      "id": "6d96832a-e0ee-4026-b89f-c2fc3d234b6a",
      "metadata": {
        "id": "6d96832a-e0ee-4026-b89f-c2fc3d234b6a"
      },
      "outputs": [],
      "source": [
        "import os\n",
        "import numpy as np\n",
        "import pandas as pd\n",
        "import csv\n",
        "import matplotlib.pyplot as plt\n",
        "import datetime\n",
        "import shutil\n",
        "import re"
      ]
    },
    {
      "cell_type": "code",
      "execution_count": null,
      "id": "c9cca09d-fb65-4e38-a779-73cdbc2c1626",
      "metadata": {
        "id": "c9cca09d-fb65-4e38-a779-73cdbc2c1626",
        "outputId": "ae3eeddf-112d-452f-8c93-4dd0d0bbd68f"
      },
      "outputs": [
        {
          "data": {
            "text/plain": [
              "'/home/vlsidesign15/New_Work/IC_DESIGN'"
            ]
          },
          "execution_count": 303,
          "metadata": {},
          "output_type": "execute_result"
        }
      ],
      "source": [
        "os.getcwd() #checking current directory"
      ]
    },
    {
      "cell_type": "code",
      "execution_count": null,
      "id": "5882e59f-c322-4aed-bc89-e9f3ba4d52a6",
      "metadata": {
        "id": "5882e59f-c322-4aed-bc89-e9f3ba4d52a6",
        "outputId": "c0d2f22d-6a9b-4428-ba9a-c164ed6e6eb8"
      },
      "outputs": [
        {
          "name": "stdout",
          "output_type": "stream",
          "text": [
            "Deleted existed folder\n",
            "Created new folder\n"
          ]
        }
      ],
      "source": [
        "#Creating Automation folder in vivado if it already exits then it is deleting first then adding new one\n",
        "folder_name = \"Automation\"\n",
        "if os.path.exists(folder_name):\n",
        "    shutil.rmtree(folder_name)\n",
        "    print(\"Deleted existed folder\")\n",
        "    \n",
        "os.mkdir(folder_name)\n",
        "print(\"Created new folder\")"
      ]
    },
    {
      "cell_type": "code",
      "execution_count": null,
      "id": "0a2792a9-f744-4759-8ecc-e0a4478a8af1",
      "metadata": {
        "id": "0a2792a9-f744-4759-8ecc-e0a4478a8af1",
        "outputId": "bea38486-aa75-4302-8944-f251efc7512c"
      },
      "outputs": [
        {
          "data": {
            "text/plain": [
              "['PGGen.v',\n",
              " 'top_CLA8.v',\n",
              " 'top_CLA16.v',\n",
              " 'top_CLA32.v',\n",
              " 'top_encoder.v',\n",
              " 'top_mealy.v',\n",
              " 'top_moore.v',\n",
              " 'top_Multiplyer_4bit.v',\n",
              " 'top_priority_encoder.v',\n",
              " 'top_RCA_4bit.v']"
            ]
          },
          "execution_count": 305,
          "metadata": {},
          "output_type": "execute_result"
        }
      ],
      "source": [
        "# list of all modules\n",
        "old_modules = os.listdir(\"Modules\")\n",
        "modules1 = [file for file in old_modules if \".v\" in file]\n",
        "modules2 = [file for file in old_modules if \".sv\" in file]\n",
        "modules1 "
      ]
    },
    {
      "cell_type": "code",
      "execution_count": null,
      "id": "eff45844-3039-40f2-8696-6c927979531e",
      "metadata": {
        "id": "eff45844-3039-40f2-8696-6c927979531e",
        "outputId": "ca7ce6c7-0469-4254-97bf-08a7d7dbbd3e"
      },
      "outputs": [
        {
          "data": {
            "text/plain": [
              "['top_fifo.sv', 'frequency_divider.sv', 'top_trafficsignal.sv']"
            ]
          },
          "execution_count": 306,
          "metadata": {},
          "output_type": "execute_result"
        }
      ],
      "source": [
        "modules2\n"
      ]
    },
    {
      "cell_type": "code",
      "execution_count": null,
      "id": "97699f25-2ef5-417b-b3b8-d98ca5c49062",
      "metadata": {
        "id": "97699f25-2ef5-417b-b3b8-d98ca5c49062"
      },
      "outputs": [],
      "source": [
        "# Only .v and .sv modules are present\n",
        "modules = modules1+modules2\n",
        "modules"
      ]
    },
    {
      "cell_type": "code",
      "execution_count": null,
      "id": "4e0935ea-ede2-47ef-bad8-7f94c345f218",
      "metadata": {
        "id": "4e0935ea-ede2-47ef-bad8-7f94c345f218"
      },
      "outputs": [],
      "source": [
        "top_modules1 = [mod for mod in modules1 if mod[:3]=='top']\n",
        "top_modules2 = [mod for mod in modules2 if mod[:3]=='top']"
      ]
    },
    {
      "cell_type": "code",
      "execution_count": null,
      "id": "eb1677fb-0d18-41b1-bdce-bc2d67d1fd2c",
      "metadata": {
        "id": "eb1677fb-0d18-41b1-bdce-bc2d67d1fd2c",
        "outputId": "183be29a-9a22-4dc5-fd62-0723f1614fca"
      },
      "outputs": [
        {
          "data": {
            "text/plain": [
              "['top_CLA8.v',\n",
              " 'top_CLA16.v',\n",
              " 'top_CLA32.v',\n",
              " 'top_encoder.v',\n",
              " 'top_mealy.v',\n",
              " 'top_moore.v',\n",
              " 'top_Multiplyer_4bit.v',\n",
              " 'top_priority_encoder.v',\n",
              " 'top_RCA_4bit.v',\n",
              " 'top_fifo.sv',\n",
              " 'top_trafficsignal.sv']"
            ]
          },
          "execution_count": 309,
          "metadata": {},
          "output_type": "execute_result"
        }
      ],
      "source": [
        "#list contains top module\n",
        "top_modules = top_modules1+top_modules2\n",
        "top_modules"
      ]
    },
    {
      "cell_type": "code",
      "execution_count": null,
      "id": "04c2b984-78de-458c-a2fe-e0dd49057cac",
      "metadata": {
        "id": "04c2b984-78de-458c-a2fe-e0dd49057cac"
      },
      "outputs": [],
      "source": [
        "# string as a input to tcl file to add files in vivado\n",
        "add_string = \"\"\n",
        "for file in modules:\n",
        "    add_string = add_string + str(file) +\" \""
      ]
    },
    {
      "cell_type": "code",
      "execution_count": null,
      "id": "c4ce9f7e-9781-48fd-b0ca-fe1726899b89",
      "metadata": {
        "id": "c4ce9f7e-9781-48fd-b0ca-fe1726899b89"
      },
      "outputs": [],
      "source": [
        "#top modules to start the synthesis and implementation\n",
        "top_string = \"\"\n",
        "for file in top_modules:\n",
        "    if \".v\" in file:\n",
        "        top_string = top_string + str(file[:-2]) +\" \"\n",
        "    else:\n",
        "        top_string = top_string + str(file[:-3]) +\" \""
      ]
    },
    {
      "cell_type": "code",
      "execution_count": null,
      "id": "b3d87fa4-74e9-41e4-a80b-a8b99452ff6b",
      "metadata": {
        "id": "b3d87fa4-74e9-41e4-a80b-a8b99452ff6b",
        "outputId": "3120c294-d447-41ef-ed4e-930061ac403a"
      },
      "outputs": [
        {
          "data": {
            "text/plain": [
              "'PGGen.v top_CLA8.v top_CLA16.v top_CLA32.v top_encoder.v top_mealy.v top_moore.v top_Multiplyer_4bit.v top_priority_encoder.v top_RCA_4bit.v top_fifo.sv frequency_divider.sv top_trafficsignal.sv '"
            ]
          },
          "execution_count": 312,
          "metadata": {},
          "output_type": "execute_result"
        }
      ],
      "source": [
        "add_string\n"
      ]
    },
    {
      "cell_type": "code",
      "execution_count": null,
      "id": "45e7c811-a6dc-42ca-b478-7e9999b420d9",
      "metadata": {
        "id": "45e7c811-a6dc-42ca-b478-7e9999b420d9",
        "outputId": "107de520-41ff-43e5-8547-0713c930b4bf"
      },
      "outputs": [
        {
          "data": {
            "text/plain": [
              "'top_CLA8 top_CLA16 top_CLA32 top_encoder top_mealy top_moore top_Multiplyer_4bit top_priority_encoder top_RCA_4bit top_fifo top_trafficsignal '"
            ]
          },
          "execution_count": 313,
          "metadata": {},
          "output_type": "execute_result"
        }
      ],
      "source": [
        "top_string"
      ]
    },
    {
      "cell_type": "code",
      "execution_count": null,
      "id": "aa294b4e-3f3e-4ce2-9586-52d4507706c7",
      "metadata": {
        "id": "aa294b4e-3f3e-4ce2-9586-52d4507706c7",
        "outputId": "be026ca1-e887-4ecd-d125-9d57ce8e62d5"
      },
      "outputs": [
        {
          "data": {
            "text/plain": [
              "0"
            ]
          },
          "execution_count": 314,
          "metadata": {},
          "output_type": "execute_result"
        }
      ],
      "source": [
        "#Adding files in vivado\n",
        "os.system(\"vivado -mode batch -source Script/tcl_add.tcl -tclargs {}\".format(add_string))"
      ]
    },
    {
      "cell_type": "code",
      "execution_count": null,
      "id": "c48acbc1-307c-4b54-8215-4f840eb700c3",
      "metadata": {
        "id": "c48acbc1-307c-4b54-8215-4f840eb700c3",
        "outputId": "c5e34a84-534b-4647-9c8f-ef0d39180c3f"
      },
      "outputs": [
        {
          "name": "stdout",
          "output_type": "stream",
          "text": [
            "Deleted existed folder\n",
            "Created new folder\n"
          ]
        }
      ],
      "source": [
        "#Creating Impl folder to save power, time, and utilization report if it already exits then it is deleting first then adding new one\n",
        "folder_name = \"Impl\"\n",
        "if os.path.exists(folder_name):\n",
        "    shutil.rmtree(folder_name)\n",
        "    print(\"Deleted existed folder\")\n",
        "    \n",
        "os.mkdir(folder_name)\n",
        "print(\"Created new folder\")"
      ]
    },
    {
      "cell_type": "code",
      "execution_count": null,
      "id": "f582c99e-ddc1-435c-bd01-5740d98aed44",
      "metadata": {
        "id": "f582c99e-ddc1-435c-bd01-5740d98aed44"
      },
      "outputs": [],
      "source": [
        "# Creating different folders for different modules\n",
        "for filename in top_modules1:\n",
        "    os.mkdir(\"Impl/\"+filename[:-2])\n",
        "for filename in top_modules2:\n",
        "    os.mkdir(\"Impl/\"+filename[:-3])\n"
      ]
    },
    {
      "cell_type": "code",
      "execution_count": null,
      "id": "a7355bf9-d3f7-4eed-b3db-7659f1f93717",
      "metadata": {
        "id": "a7355bf9-d3f7-4eed-b3db-7659f1f93717"
      },
      "outputs": [],
      "source": [
        "# file = open(\"Running_Status.txt\", \"w\")\n",
        "file_path = \"Running_Status.txt\"\n",
        "\n",
        "if os.path.isfile(file_path):\n",
        "    # If the file already exists, delete it\n",
        "    os.remove(file_path)\n",
        "\n",
        "# Create a new file\n",
        "with open(file_path, \"w\") as file:\n",
        "    file.write(\"This is a new file.\\n\")"
      ]
    },
    {
      "cell_type": "code",
      "execution_count": null,
      "id": "6c300cc7-80df-4290-a372-30f10bc6e0d9",
      "metadata": {
        "id": "6c300cc7-80df-4290-a372-30f10bc6e0d9",
        "outputId": "94b4940e-f7f3-4909-8911-c8be90dec76c"
      },
      "outputs": [
        {
          "data": {
            "text/plain": [
              "0"
            ]
          },
          "execution_count": 318,
          "metadata": {},
          "output_type": "execute_result"
        }
      ],
      "source": [
        "os.system(\"vivado -mode batch -source Script/tcl_run.tcl -tclargs {}\".format(top_string))"
      ]
    },
    {
      "cell_type": "markdown",
      "id": "0a94fa18-8736-46be-9fa0-f088273b17a8",
      "metadata": {
        "id": "0a94fa18-8736-46be-9fa0-f088273b17a8"
      },
      "source": [
        "## CREATING CSV FILE"
      ]
    },
    {
      "cell_type": "code",
      "execution_count": null,
      "id": "989f0c7e-0ec0-41e2-ac10-e8933f4ecb97",
      "metadata": {
        "id": "989f0c7e-0ec0-41e2-ac10-e8933f4ecb97"
      },
      "outputs": [],
      "source": [
        "design = os.listdir(\"Impl\")\n",
        "file = [\"power.txt\", \"timing.txt\",\"utilization.txt\"]\n"
      ]
    },
    {
      "cell_type": "code",
      "execution_count": null,
      "id": "a5cfb59a-fdb1-4181-9815-2b636cf89e22",
      "metadata": {
        "id": "a5cfb59a-fdb1-4181-9815-2b636cf89e22"
      },
      "outputs": [],
      "source": [
        "designs=[]\n",
        "fl = \"power.txt\"\n",
        "for des in design:\n",
        "        # for fl in file:\n",
        "            # print(fl)\n",
        "            if(fl in os.listdir(\"Impl/{}\".format(des))):\n",
        "                designs.append(des)\n",
        "                \n",
        "            else:continue"
      ]
    },
    {
      "cell_type": "code",
      "execution_count": null,
      "id": "c50591bc-1c47-457f-b371-6917bc2ff8de",
      "metadata": {
        "id": "c50591bc-1c47-457f-b371-6917bc2ff8de",
        "outputId": "45dd4fa1-1fcb-47db-c944-3a413d95c973"
      },
      "outputs": [
        {
          "data": {
            "text/plain": [
              "['top_CLA8',\n",
              " 'top_CLA16',\n",
              " 'top_CLA32',\n",
              " 'top_encoder',\n",
              " 'top_mealy',\n",
              " 'top_moore',\n",
              " 'top_Multiplyer_4bit',\n",
              " 'top_priority_encoder',\n",
              " 'top_RCA_4bit',\n",
              " 'top_trafficsignal']"
            ]
          },
          "execution_count": 339,
          "metadata": {},
          "output_type": "execute_result"
        }
      ],
      "source": [
        "# designs = design[:-1]\n",
        "designs"
      ]
    },
    {
      "cell_type": "code",
      "execution_count": null,
      "id": "82ee6acb-16a9-40bc-addf-dd2e6d3d18f5",
      "metadata": {
        "id": "82ee6acb-16a9-40bc-addf-dd2e6d3d18f5",
        "outputId": "f4499cb6-99b7-441d-f426-39aef1f52c46"
      },
      "outputs": [
        {
          "name": "stdout",
          "output_type": "stream",
          "text": [
            "Deleted existed folder\n",
            "Created new folder\n"
          ]
        }
      ],
      "source": [
        "folder_name = \"Result\"\n",
        "if os.path.exists(folder_name):\n",
        "    shutil.rmtree(folder_name)\n",
        "    print(\"Deleted existed folder\")\n",
        "    \n",
        "os.mkdir(folder_name)\n",
        "print(\"Created new folder\")"
      ]
    },
    {
      "cell_type": "code",
      "execution_count": null,
      "id": "21e4180f-6d2a-4660-ae24-c7f9f4216225",
      "metadata": {
        "id": "21e4180f-6d2a-4660-ae24-c7f9f4216225"
      },
      "outputs": [],
      "source": [
        "Signal_Power =[]\n",
        "Logic_Power =[]\n",
        "Static_Power =[]\n",
        "Dynamic_Power =[]\n",
        "Total_Power = []\n",
        "Data_Path_Delay = []\n",
        "Logic_Delay =[]\n",
        "Route_Delay =[]\n",
        "F7_Muxes = []\n",
        "LUT_as_a_memory = []\n",
        "LUT_as_a_logic = []\n",
        "LUT_as_a_memory_2 = []\n",
        "LUT_as_a_logic_2 = []\n",
        "Slice_LUTs = []\n",
        "LUT1=[]\n",
        "LUT2=[]\n",
        "LUT3=[]\n",
        "LUT4=[]\n",
        "LUT5=[]\n",
        "LUT6=[]\n",
        "LUT7=[]\n",
        "# LUT_as_Logic2 = []\n",
        "# Slice_LUTs2 = []\n",
        "# LUTs_difference =[]\n",
        "\n",
        "\n",
        "for des in designs:\n",
        "        for fl in file:\n",
        "            with open(\"Impl/{}/{}\".format(des,fl)) as f:\n",
        "                lines = f.read()\n",
        "                \n",
        "            found_delay = False    \n",
        "            found_first_mem = False\n",
        "            found_first_logic = False\n",
        "            found_LUT1 = False\n",
        "            found_LUT2 = False\n",
        "            found_LUT3 = False\n",
        "            found_LUT4 = False\n",
        "            found_LUT5 = False\n",
        "            found_LUT6 = False\n",
        "            found_LUT7 = False\n",
        "            \n",
        "            sp = lines.split(\"\\n\")\n",
        "            # print(sp)\n",
        "            for l in sp:\n",
        "                # print(l)\n",
        "                if fl == \"power.txt\":\n",
        "                    if \"Signals\" in l:\n",
        "                        sp = float(l.split()[3])\n",
        "                        # print(sp)\n",
        "                        Signal_Power.append(sp)\n",
        "                        # print(Signal_Power)\n",
        "                        \n",
        "                    if \"Slice Logic\" in l:\n",
        "                        tonp = float(l.split()[6])\n",
        "                        # print(tonp)\n",
        "                        Logic_Power.append(tonp)\n",
        "                        # print(Logic_Power)\n",
        "                        \n",
        "                    if \"Static Power\" in l:\n",
        "                        tonp = float(l.split()[4])\n",
        "                        # print(tonp)\n",
        "                        Static_Power.append(tonp)\n",
        "                        # print(Static_Power)\n",
        "                        \n",
        "                    if \"Dynamic (W)\" in l:\n",
        "                        tonp = float(l.split()[4])\n",
        "                        # print(tonp)\n",
        "                        Dynamic_Power.append(tonp)\n",
        "                        # print(Dynamic_Power)\n",
        "                        \n",
        "                    if \"Total On-Chip Power\" in l:\n",
        "                        tonp = float(l.split()[6])\n",
        "                        # print(tonp)\n",
        "                        Total_Power.append(tonp)\n",
        "                        # print(Total_Power)\n",
        "\n",
        "                if fl == \"timing.txt\":\n",
        "                    if \"Data Path Delay\" in l:\n",
        "                        line = l.split()\n",
        "                        dpd = float(line[3][:-2])\n",
        "                        ld = float(line[5][:-2])\n",
        "                        rd = float(line[8][:-2])\n",
        "                        Data_Path_Delay.append(dpd)\n",
        "                        Logic_Delay.append(ld)\n",
        "                        Route_Delay.append(rd)\n",
        "                        # found_delay = True\n",
        "                        # print(Data_Path_Delay)\n",
        "                        \n",
        "                    # if \"logic\" in l:\n",
        "                    #     ld = float(l.split()[5][:-2])\n",
        "                    #     Logic_Delay.append(ld)\n",
        "                        # print(Logic_Delay)\n",
        "                        \n",
        "                    # if \"route\" in l:\n",
        "                    #     rd = float(l.split()[8][:-3])\n",
        "                    #     print(rd)\n",
        "                        # Route_Delay.append(rd)\n",
        "                        # print(Route_Delay)\n",
        "                        \n",
        "                if fl == \"utilization.txt\":   \n",
        "                    if \"F7 Muxes\" in l:\n",
        "                        fm = int(l.split()[4])\n",
        "                        F7_Muxes.append(fm) \n",
        "                        # print(Slice_LUTs)\n",
        "                        \n",
        "                    if \"Slice LUTs\" in l:\n",
        "                        sl = int(l.split()[4])\n",
        "                        Slice_LUTs.append(sl) \n",
        "                        # print(Slice_LUTs)\n",
        "                        \n",
        "                    if \"LUT as Logic\" in l:\n",
        "                        lal = int(l.split()[5])\n",
        "                        # LUT_as_a_logic.append(lal) \n",
        "                        if not found_first_logic:\n",
        "                            LUT_as_a_logic.append(lal) # Print the first occurrence of the data\n",
        "                            found_first_logic = True\n",
        "                        else:\n",
        "                            LUT_as_a_logic_2.append(lal) \n",
        "                        # LUT_as_a_logic = [LUT_as_a_logic[0]]\n",
        "                        # print(LUT_as_a_logic)\n",
        "                    if \"LUT as Memory\" in l:\n",
        "                        lam = int(l.split()[5])\n",
        "                        # LUT_as_a_memory.append(lam) \n",
        "                        if not found_first_mem:\n",
        "                            LUT_as_a_memory.append(lam) # Print the first occurrence of the data\n",
        "                            found_first_mem = True\n",
        "                        else:\n",
        "                            LUT_as_a_memory_2.append(lam) \n",
        "                        # LUT_as_a_memory = [LUT_as_a_memory[0]]\n",
        "                        # print(LUT_as_a_memory)\n",
        "                \n",
        "                    if \"LUT1\" in l:\n",
        "                        lut1 = int(l.split()[-4])\n",
        "                        # if not found_LUT1:\n",
        "                        LUT1.append(lut1)\n",
        "                        found_LUT1=True;\n",
        "                        # found_LUT1 =True\n",
        "                    # elif not found_LUT1:\n",
        "                    #     LUT1.append(0)\n",
        "                    #     found_LUT1=True;\n",
        "                    #     # print(LUT1)\n",
        "                    \n",
        "                    \n",
        "                    if \"LUT2\" in l:\n",
        "                        lut2 = int(l.split()[-4])\n",
        "                        # if not found_LUT1:\n",
        "                        LUT2.append(lut2)\n",
        "                        found_LUT2=True;\n",
        "                        # found_LUT1 =True\n",
        "                    # elif not found_LUT2:\n",
        "                    #     LUT2.append(0)\n",
        "                    #     found_LUT2=True;\n",
        "                        \n",
        "                    if \"LUT3\" in l:\n",
        "                        lut3 = int(l.split()[-4])\n",
        "                        # if not found_LUT1:\n",
        "                        LUT3.append(lut3)\n",
        "                        found_LUT3=True;\n",
        "                        # found_LUT1 =True\n",
        "#                     elif not found_LUT3:\n",
        "#                         LUT3.append(0)\n",
        "#                         found_LUT3=True;\n",
        "                        \n",
        "                    if \"LUT4\" in l:\n",
        "                        lut4 = int(l.split()[-4])\n",
        "                        # if not found_LUT1:\n",
        "                        LUT4.append(lut4)\n",
        "                        found_LUT4=True;\n",
        "                        # found_LUT1 =True\n",
        "                    # elif not found_LUT4:\n",
        "                    #     LUT4.append(0)\n",
        "                    #     found_LUT4=True;\n",
        "                        \n",
        "                    if \"LUT5\" in l:\n",
        "                        lut5 = int(l.split()[-4])\n",
        "                        # if not found_LUT1:\n",
        "                        LUT5.append(lut5)\n",
        "                        found_LUT5=True;\n",
        "                        # found_LUT1 =True\n",
        "                    # elif not found_LUT5:\n",
        "                    #     LUT5.append(0)\n",
        "                    #     found_LUT5=True;\n",
        "                        \n",
        "                    if \"LUT6\" in l:\n",
        "                        lut6 = int(l.split()[-4])\n",
        "                        # if not found_LUT1:\n",
        "                        LUT6.append(lut6)\n",
        "                        found_LUT6=True;\n",
        "                        # found_LUT1 =True\n",
        "                    # elif not found_LUT6:\n",
        "                    #     LUT6.append(0)\n",
        "                    #     found_LUT6=True;\n",
        "        \n",
        "                        \n",
        "                    if \"LUT7\" in l:\n",
        "                        lut7 = int(l.split()[-4])\n",
        "                        # if not found_LUT1:\n",
        "                        LUT7.append(lut7)\n",
        "                        found_LUT7=True;\n",
        "                        # found_LUT1 =True\n",
        "                    # elif not found_LUT7:\n",
        "                    #     LUT7.append(0)\n",
        "                    #     found_LUT7=True;\n",
        "        # if fl == \"timing.txt\":\n",
        "        #     if not found_delay:\n",
        "        #         Data_Path_Delay.append(dpd)\n",
        "        #                 Logic_Delay.append(ld)\n",
        "        #                 Route_Delay.append(rd)\n",
        "        if fl == \"utilization.txt\":\n",
        "            if not found_LUT1:\n",
        "                LUT1.append(0)\n",
        "            if not found_LUT2:\n",
        "                LUT2.append(0)\n",
        "            if not found_LUT3:\n",
        "                LUT3.append(0)\n",
        "            if not found_LUT4:\n",
        "                LUT4.append(0)\n",
        "            if not found_LUT5:\n",
        "                LUT5.append(0)\n",
        "            if not found_LUT6:\n",
        "                LUT6.append(0)\n",
        "            if not found_LUT7:\n",
        "                LUT7.append(0)\n",
        "\n",
        "            # print(LUT7)\n",
        "                \n",
        "                # print(tonpdes)\n",
        "            "
      ]
    },
    {
      "cell_type": "code",
      "execution_count": null,
      "id": "af484e8c-1f48-4f05-9a6d-b22d83bf98ce",
      "metadata": {
        "id": "af484e8c-1f48-4f05-9a6d-b22d83bf98ce",
        "outputId": "dda6cb6a-a5b9-48f5-ad98-bae89c5a0064"
      },
      "outputs": [
        {
          "name": "stdout",
          "output_type": "stream",
          "text": [
            "[0.167, 0.5, 1.749, 0.041, 0.018, 0.016, 0.147, 0.039, 0.17, 0.154]\n",
            "[15.0, 45.0, 123.0, 5.0, 8.0, 10.0, 22.0, 6.0, 12.0, 94.0]\n",
            "[0.088, 0.156, 0.485, 0.071, 0.071, 0.07, 0.084, 0.072, 0.092, 0.075]\n",
            "[4.807, 10.89, 22.729, 0.386, 0.247, 0.125, 4.085, 0.697, 5.508, 1.798]\n",
            "[4.895, 11.046, 23.213, 0.457, 0.318, 0.195, 4.169, 0.769, 5.6, 1.873]\n",
            "[9.882, 12.463, 18.806, 7.676, 6.182, 5.756, 9.393, 7.886, 9.494, 4.917]\n",
            "[4.017, 4.63, 4.999, 3.798, 3.652, 3.413, 3.926, 3.793, 4.265, 3.053]\n",
            "[5.866, 7.833, 13.808, 3.877, 2.53, 2.343, 5.467, 4.093, 5.228, 1.864]\n",
            "[0, 0, 0, 0, 0, 0, 0, 0, 0, 0]\n",
            "[13, 35, 96, 4, 3, 3, 19, 5, 8, 32]\n",
            "[13, 35, 96, 4, 3, 3, 19, 5, 8, 32]\n",
            "[0, 0, 0, 0, 0, 0, 0, 0, 0, 0]\n",
            "[0, 0, 0, 1, 1, 1, 0, 0, 0, 1]\n",
            "[1, 6, 26, 1, 0, 0, 6, 0, 0, 4]\n",
            "[2, 4, 9, 0, 3, 1, 0, 2, 4, 1]\n",
            "[3, 8, 14, 1, 0, 3, 1, 1, 0, 10]\n",
            "[3, 5, 15, 0, 0, 0, 1, 1, 8, 14]\n",
            "[6, 22, 59, 2, 0, 0, 14, 2, 0, 4]\n",
            "[0, 0, 0, 0, 0, 0, 0, 0, 0, 0]\n"
          ]
        }
      ],
      "source": [
        "print(Signal_Power)\n",
        "print(Logic_Power)\n",
        "print(Static_Power)\n",
        "print(Dynamic_Power)\n",
        "print(Total_Power)\n",
        "print(Data_Path_Delay)\n",
        "print(Logic_Delay)\n",
        "print(Route_Delay)\n",
        "print(F7_Muxes)\n",
        "print(Slice_LUTs)\n",
        "print(LUT_as_a_logic)\n",
        "print(LUT_as_a_memory)\n",
        "print(LUT1)\n",
        "print(LUT2)\n",
        "print(LUT3)\n",
        "print(LUT4)\n",
        "print(LUT5)\n",
        "print(LUT6)\n",
        "print(LUT7)"
      ]
    },
    {
      "cell_type": "code",
      "execution_count": null,
      "id": "c9eb1e36-3934-47b3-8a7e-2a1696ef70cc",
      "metadata": {
        "id": "c9eb1e36-3934-47b3-8a7e-2a1696ef70cc",
        "outputId": "be9fb139-e739-48c5-a737-7993f2bf1dd8"
      },
      "outputs": [
        {
          "name": "stdout",
          "output_type": "stream",
          "text": [
            "['top_CLA8', 'top_CLA16', 'top_CLA32', 'top_encoder', 'top_mealy', 'top_moore', 'top_Multiplyer_4bit', 'top_priority_encoder', 'top_RCA_4bit', 'top_trafficsignal']\n"
          ]
        }
      ],
      "source": [
        "file_names = designs\n",
        "print(file_names)"
      ]
    },
    {
      "cell_type": "code",
      "execution_count": null,
      "id": "bbf824fd-c11e-48fb-9394-53dc00221f0c",
      "metadata": {
        "id": "bbf824fd-c11e-48fb-9394-53dc00221f0c"
      },
      "outputs": [],
      "source": [
        "# empty.to_csv('output.csv')"
      ]
    },
    {
      "cell_type": "code",
      "execution_count": null,
      "id": "dc0b97d0-bb26-4363-a9d3-9fedc06ede9b",
      "metadata": {
        "id": "dc0b97d0-bb26-4363-a9d3-9fedc06ede9b",
        "outputId": "889d890d-16cd-4f6b-c8df-d128197cdcad"
      },
      "outputs": [
        {
          "data": {
            "text/html": [
              "<div>\n",
              "<style scoped>\n",
              "    .dataframe tbody tr th:only-of-type {\n",
              "        vertical-align: middle;\n",
              "    }\n",
              "\n",
              "    .dataframe tbody tr th {\n",
              "        vertical-align: top;\n",
              "    }\n",
              "\n",
              "    .dataframe thead th {\n",
              "        text-align: right;\n",
              "    }\n",
              "</style>\n",
              "<table border=\"1\" class=\"dataframe\">\n",
              "  <thead>\n",
              "    <tr style=\"text-align: right;\">\n",
              "      <th></th>\n",
              "      <th>file_names</th>\n",
              "      <th>Signal_Power</th>\n",
              "      <th>Logic_Power</th>\n",
              "      <th>Static_Power</th>\n",
              "      <th>Dynamic_Power</th>\n",
              "      <th>Total_Power</th>\n",
              "      <th>Data_Path_Delay</th>\n",
              "      <th>Logic_Delay</th>\n",
              "      <th>Route_Delay</th>\n",
              "      <th>F7_Muxes</th>\n",
              "      <th>LUT_as_a_memory</th>\n",
              "      <th>LUT_as_a_logic</th>\n",
              "      <th>Slice_LUTs</th>\n",
              "      <th>LUT1</th>\n",
              "      <th>LUT2</th>\n",
              "      <th>LUT3</th>\n",
              "      <th>LUT4</th>\n",
              "      <th>LUT5</th>\n",
              "      <th>LUT6</th>\n",
              "      <th>LUT7</th>\n",
              "    </tr>\n",
              "  </thead>\n",
              "  <tbody>\n",
              "    <tr>\n",
              "      <th>0</th>\n",
              "      <td>top_CLA8</td>\n",
              "      <td>0.167</td>\n",
              "      <td>15.0</td>\n",
              "      <td>0.088</td>\n",
              "      <td>4.807</td>\n",
              "      <td>4.895</td>\n",
              "      <td>9.882</td>\n",
              "      <td>4.017</td>\n",
              "      <td>5.866</td>\n",
              "      <td>0</td>\n",
              "      <td>0</td>\n",
              "      <td>13</td>\n",
              "      <td>13</td>\n",
              "      <td>0</td>\n",
              "      <td>1</td>\n",
              "      <td>2</td>\n",
              "      <td>3</td>\n",
              "      <td>3</td>\n",
              "      <td>6</td>\n",
              "      <td>0</td>\n",
              "    </tr>\n",
              "    <tr>\n",
              "      <th>1</th>\n",
              "      <td>top_CLA16</td>\n",
              "      <td>0.500</td>\n",
              "      <td>45.0</td>\n",
              "      <td>0.156</td>\n",
              "      <td>10.890</td>\n",
              "      <td>11.046</td>\n",
              "      <td>12.463</td>\n",
              "      <td>4.630</td>\n",
              "      <td>7.833</td>\n",
              "      <td>0</td>\n",
              "      <td>0</td>\n",
              "      <td>35</td>\n",
              "      <td>35</td>\n",
              "      <td>0</td>\n",
              "      <td>6</td>\n",
              "      <td>4</td>\n",
              "      <td>8</td>\n",
              "      <td>5</td>\n",
              "      <td>22</td>\n",
              "      <td>0</td>\n",
              "    </tr>\n",
              "    <tr>\n",
              "      <th>2</th>\n",
              "      <td>top_CLA32</td>\n",
              "      <td>1.749</td>\n",
              "      <td>123.0</td>\n",
              "      <td>0.485</td>\n",
              "      <td>22.729</td>\n",
              "      <td>23.213</td>\n",
              "      <td>18.806</td>\n",
              "      <td>4.999</td>\n",
              "      <td>13.808</td>\n",
              "      <td>0</td>\n",
              "      <td>0</td>\n",
              "      <td>96</td>\n",
              "      <td>96</td>\n",
              "      <td>0</td>\n",
              "      <td>26</td>\n",
              "      <td>9</td>\n",
              "      <td>14</td>\n",
              "      <td>15</td>\n",
              "      <td>59</td>\n",
              "      <td>0</td>\n",
              "    </tr>\n",
              "    <tr>\n",
              "      <th>3</th>\n",
              "      <td>top_encoder</td>\n",
              "      <td>0.041</td>\n",
              "      <td>5.0</td>\n",
              "      <td>0.071</td>\n",
              "      <td>0.386</td>\n",
              "      <td>0.457</td>\n",
              "      <td>7.676</td>\n",
              "      <td>3.798</td>\n",
              "      <td>3.877</td>\n",
              "      <td>0</td>\n",
              "      <td>0</td>\n",
              "      <td>4</td>\n",
              "      <td>4</td>\n",
              "      <td>1</td>\n",
              "      <td>1</td>\n",
              "      <td>0</td>\n",
              "      <td>1</td>\n",
              "      <td>0</td>\n",
              "      <td>2</td>\n",
              "      <td>0</td>\n",
              "    </tr>\n",
              "    <tr>\n",
              "      <th>4</th>\n",
              "      <td>top_mealy</td>\n",
              "      <td>0.018</td>\n",
              "      <td>8.0</td>\n",
              "      <td>0.071</td>\n",
              "      <td>0.247</td>\n",
              "      <td>0.318</td>\n",
              "      <td>6.182</td>\n",
              "      <td>3.652</td>\n",
              "      <td>2.530</td>\n",
              "      <td>0</td>\n",
              "      <td>0</td>\n",
              "      <td>3</td>\n",
              "      <td>3</td>\n",
              "      <td>1</td>\n",
              "      <td>0</td>\n",
              "      <td>3</td>\n",
              "      <td>0</td>\n",
              "      <td>0</td>\n",
              "      <td>0</td>\n",
              "      <td>0</td>\n",
              "    </tr>\n",
              "    <tr>\n",
              "      <th>5</th>\n",
              "      <td>top_moore</td>\n",
              "      <td>0.016</td>\n",
              "      <td>10.0</td>\n",
              "      <td>0.070</td>\n",
              "      <td>0.125</td>\n",
              "      <td>0.195</td>\n",
              "      <td>5.756</td>\n",
              "      <td>3.413</td>\n",
              "      <td>2.343</td>\n",
              "      <td>0</td>\n",
              "      <td>0</td>\n",
              "      <td>3</td>\n",
              "      <td>3</td>\n",
              "      <td>1</td>\n",
              "      <td>0</td>\n",
              "      <td>1</td>\n",
              "      <td>3</td>\n",
              "      <td>0</td>\n",
              "      <td>0</td>\n",
              "      <td>0</td>\n",
              "    </tr>\n",
              "    <tr>\n",
              "      <th>6</th>\n",
              "      <td>top_Multiplyer_4bit</td>\n",
              "      <td>0.147</td>\n",
              "      <td>22.0</td>\n",
              "      <td>0.084</td>\n",
              "      <td>4.085</td>\n",
              "      <td>4.169</td>\n",
              "      <td>9.393</td>\n",
              "      <td>3.926</td>\n",
              "      <td>5.467</td>\n",
              "      <td>0</td>\n",
              "      <td>0</td>\n",
              "      <td>19</td>\n",
              "      <td>19</td>\n",
              "      <td>0</td>\n",
              "      <td>6</td>\n",
              "      <td>0</td>\n",
              "      <td>1</td>\n",
              "      <td>1</td>\n",
              "      <td>14</td>\n",
              "      <td>0</td>\n",
              "    </tr>\n",
              "    <tr>\n",
              "      <th>7</th>\n",
              "      <td>top_priority_encoder</td>\n",
              "      <td>0.039</td>\n",
              "      <td>6.0</td>\n",
              "      <td>0.072</td>\n",
              "      <td>0.697</td>\n",
              "      <td>0.769</td>\n",
              "      <td>7.886</td>\n",
              "      <td>3.793</td>\n",
              "      <td>4.093</td>\n",
              "      <td>0</td>\n",
              "      <td>0</td>\n",
              "      <td>5</td>\n",
              "      <td>5</td>\n",
              "      <td>0</td>\n",
              "      <td>0</td>\n",
              "      <td>2</td>\n",
              "      <td>1</td>\n",
              "      <td>1</td>\n",
              "      <td>2</td>\n",
              "      <td>0</td>\n",
              "    </tr>\n",
              "    <tr>\n",
              "      <th>8</th>\n",
              "      <td>top_RCA_4bit</td>\n",
              "      <td>0.170</td>\n",
              "      <td>12.0</td>\n",
              "      <td>0.092</td>\n",
              "      <td>5.508</td>\n",
              "      <td>5.600</td>\n",
              "      <td>9.494</td>\n",
              "      <td>4.265</td>\n",
              "      <td>5.228</td>\n",
              "      <td>0</td>\n",
              "      <td>0</td>\n",
              "      <td>8</td>\n",
              "      <td>8</td>\n",
              "      <td>0</td>\n",
              "      <td>0</td>\n",
              "      <td>4</td>\n",
              "      <td>0</td>\n",
              "      <td>8</td>\n",
              "      <td>0</td>\n",
              "      <td>0</td>\n",
              "    </tr>\n",
              "    <tr>\n",
              "      <th>9</th>\n",
              "      <td>top_trafficsignal</td>\n",
              "      <td>0.154</td>\n",
              "      <td>94.0</td>\n",
              "      <td>0.075</td>\n",
              "      <td>1.798</td>\n",
              "      <td>1.873</td>\n",
              "      <td>4.917</td>\n",
              "      <td>3.053</td>\n",
              "      <td>1.864</td>\n",
              "      <td>0</td>\n",
              "      <td>0</td>\n",
              "      <td>32</td>\n",
              "      <td>32</td>\n",
              "      <td>1</td>\n",
              "      <td>4</td>\n",
              "      <td>1</td>\n",
              "      <td>10</td>\n",
              "      <td>14</td>\n",
              "      <td>4</td>\n",
              "      <td>0</td>\n",
              "    </tr>\n",
              "  </tbody>\n",
              "</table>\n",
              "</div>"
            ],
            "text/plain": [
              "             file_names  Signal_Power  Logic_Power  Static_Power  \\\n",
              "0              top_CLA8         0.167         15.0         0.088   \n",
              "1             top_CLA16         0.500         45.0         0.156   \n",
              "2             top_CLA32         1.749        123.0         0.485   \n",
              "3           top_encoder         0.041          5.0         0.071   \n",
              "4             top_mealy         0.018          8.0         0.071   \n",
              "5             top_moore         0.016         10.0         0.070   \n",
              "6   top_Multiplyer_4bit         0.147         22.0         0.084   \n",
              "7  top_priority_encoder         0.039          6.0         0.072   \n",
              "8          top_RCA_4bit         0.170         12.0         0.092   \n",
              "9     top_trafficsignal         0.154         94.0         0.075   \n",
              "\n",
              "   Dynamic_Power  Total_Power  Data_Path_Delay  Logic_Delay  Route_Delay  \\\n",
              "0          4.807        4.895            9.882        4.017        5.866   \n",
              "1         10.890       11.046           12.463        4.630        7.833   \n",
              "2         22.729       23.213           18.806        4.999       13.808   \n",
              "3          0.386        0.457            7.676        3.798        3.877   \n",
              "4          0.247        0.318            6.182        3.652        2.530   \n",
              "5          0.125        0.195            5.756        3.413        2.343   \n",
              "6          4.085        4.169            9.393        3.926        5.467   \n",
              "7          0.697        0.769            7.886        3.793        4.093   \n",
              "8          5.508        5.600            9.494        4.265        5.228   \n",
              "9          1.798        1.873            4.917        3.053        1.864   \n",
              "\n",
              "   F7_Muxes  LUT_as_a_memory  LUT_as_a_logic  Slice_LUTs  LUT1  LUT2  LUT3  \\\n",
              "0         0                0              13          13     0     1     2   \n",
              "1         0                0              35          35     0     6     4   \n",
              "2         0                0              96          96     0    26     9   \n",
              "3         0                0               4           4     1     1     0   \n",
              "4         0                0               3           3     1     0     3   \n",
              "5         0                0               3           3     1     0     1   \n",
              "6         0                0              19          19     0     6     0   \n",
              "7         0                0               5           5     0     0     2   \n",
              "8         0                0               8           8     0     0     4   \n",
              "9         0                0              32          32     1     4     1   \n",
              "\n",
              "   LUT4  LUT5  LUT6  LUT7  \n",
              "0     3     3     6     0  \n",
              "1     8     5    22     0  \n",
              "2    14    15    59     0  \n",
              "3     1     0     2     0  \n",
              "4     0     0     0     0  \n",
              "5     3     0     0     0  \n",
              "6     1     1    14     0  \n",
              "7     1     1     2     0  \n",
              "8     0     8     0     0  \n",
              "9    10    14     4     0  "
            ]
          },
          "execution_count": 346,
          "metadata": {},
          "output_type": "execute_result"
        }
      ],
      "source": [
        "dictionary_to_store_values= {'file_names': file_names,'Signal_Power': Signal_Power, 'Logic_Power':Logic_Power, 'Static_Power':Static_Power, 'Dynamic_Power':Dynamic_Power,'Total_Power':Total_Power,'Data_Path_Delay':Data_Path_Delay, 'Logic_Delay':Logic_Delay,'Route_Delay':Route_Delay, 'F7_Muxes':F7_Muxes,'LUT_as_a_memory':LUT_as_a_memory,'LUT_as_a_logic':LUT_as_a_logic,'Slice_LUTs':Slice_LUTs,'LUT1':LUT1, 'LUT2':LUT2, 'LUT3':LUT3, 'LUT4':LUT4, 'LUT5':LUT5, 'LUT6':LUT6, 'LUT7':LUT7}\n",
        "\n",
        "# f = pd.DataFrame(np.array(list_of_list).T, columns =[Signal_Power,Logic_Power, Static_Power,Dynamic_Power, Total_Power, Data_Path_Delay, Logic_Delay, Route_Delay, F7_Muxes, LUT_as_a_memory, LUT_as_a_logic, Slice_LUTs, LUT1, LUT2, LUT3, LUT4, LUT5, LUT6, LUT7])\n",
        "df = pd.DataFrame(dictionary_to_store_values)\n",
        "df"
      ]
    },
    {
      "cell_type": "code",
      "execution_count": null,
      "id": "ab9f17c6-7588-46f6-916a-d9482e350d8d",
      "metadata": {
        "id": "ab9f17c6-7588-46f6-916a-d9482e350d8d"
      },
      "outputs": [],
      "source": [
        "df.to_csv('output.csv')"
      ]
    },
    {
      "cell_type": "code",
      "execution_count": null,
      "id": "a936f768-69d3-4d87-95ce-a461890901f0",
      "metadata": {
        "id": "a936f768-69d3-4d87-95ce-a461890901f0"
      },
      "outputs": [],
      "source": [
        "# rows = zip(file_names, Signal_power,Logic_Power, Static_Power,Dynamic_Power, Total_Power, Data_Path_Delay, Logic_Delay, Route_Delay, F7_Muxes, LUT_as_a_Memory, LUT_as_a_Logic, Slice_LUTs, LUT1, LUT2, LUT3, LUT4, LUT5, LUT6, LUT7, LUT_as_Logic, Slice_LUTs)\n",
        "# rows = zip(file_names,Signal_Power,Logic_Power, Static_Power,Dynamic_Power, Total_Power, Data_Path_Delay, Logic_Delay, Route_Delay, F7_Muxes, LUT_as_a_memory, LUT_as_a_logic, Slice_LUTs, LUT1, LUT2, LUT3, LUT4, LUT5, LUT6, LUT7)\n",
        "# with open('output.csv', mode='w', newline='') as file:\n",
        "#     writer = csv.writer(file)\n",
        "#     writer.writerow([\"file_names\",\"Signal_Power\",\"Logic_Power\", \"Static_Power\",\"Dynamic_Power\", \"Total_Power\", \"Data_Path_Delay\",\"Logic_Delay\", \"Route_Delay\" \"F7_Muxes\",\"LUT_as_a_memory\",\"LUT_as_a_logic\",\"Slice_LUTs\",\"LUT1\",\"LUT2\",\"LUT3\",\"LUT4\",\"LUT5\",\"LUT6\",\"LUT7\"])\n",
        "#     for row in rows:\n",
        "#         writer.writerow(row)"
      ]
    },
    {
      "cell_type": "code",
      "execution_count": null,
      "id": "c509b6ce-8a92-4611-bfbc-e488995d64dc",
      "metadata": {
        "id": "c509b6ce-8a92-4611-bfbc-e488995d64dc"
      },
      "outputs": [],
      "source": []
    },
    {
      "cell_type": "code",
      "execution_count": null,
      "id": "64203f7b-8a69-49e9-a300-62036e8d732f",
      "metadata": {
        "id": "64203f7b-8a69-49e9-a300-62036e8d732f"
      },
      "outputs": [],
      "source": []
    }
  ],
  "metadata": {
    "kernelspec": {
      "display_name": "Python 3",
      "language": "python",
      "name": "python3"
    },
    "language_info": {
      "codemirror_mode": {
        "name": "ipython",
        "version": 3
      },
      "file_extension": ".py",
      "mimetype": "text/x-python",
      "name": "python",
      "nbconvert_exporter": "python",
      "pygments_lexer": "ipython3",
      "version": "3.6.8"
    },
    "colab": {
      "provenance": []
    }
  },
  "nbformat": 4,
  "nbformat_minor": 5
}